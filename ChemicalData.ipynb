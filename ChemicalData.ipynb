{
  "nbformat": 4,
  "nbformat_minor": 0,
  "metadata": {
    "colab": {
      "provenance": [],
      "authorship_tag": "ABX9TyPpX+4VzTvsIJxbivym+tlu",
      "include_colab_link": true
    },
    "kernelspec": {
      "name": "python3",
      "display_name": "Python 3"
    },
    "language_info": {
      "name": "python"
    }
  },
  "cells": [
    {
      "cell_type": "markdown",
      "metadata": {
        "id": "view-in-github",
        "colab_type": "text"
      },
      "source": [
        "<a href=\"https://colab.research.google.com/github/architvasan/MichiganTutorialMolecularData/blob/main/ChemicalData.ipynb\" target=\"_parent\"><img src=\"https://colab.research.google.com/assets/colab-badge.svg\" alt=\"Open In Colab\"/></a>"
      ]
    },
    {
      "cell_type": "markdown",
      "source": [
        "# Introduction to chemical data"
      ],
      "metadata": {
        "id": "yaDL8x4gNdbc"
      }
    },
    {
      "cell_type": "markdown",
      "source": [
        "## Background information\n",
        "* All molecules are built of various combinations of atoms found in the periodic table!\n",
        "* Certain rules dictate the combination of elements to form these molecules according to their position within the periodic table.\n",
        "\n",
        "\\# insert image of periodic table here\n",
        "\n"
      ],
      "metadata": {
        "id": "_7w0GZ36OWPV"
      }
    },
    {
      "cell_type": "markdown",
      "source": [
        "## General types of molecules\n",
        "\n",
        "#### Organic small molecules\n",
        "* Organic chemistry is the study of the chemistry of carbon-containing compounds.\n",
        "* Carbon is singled out because it has a chemical diversity unrivaled by any other chemical element.\n",
        "* Its diversity is based on the following:\n",
        "  * Carbon atoms bond reasonably strongly with other carbon atoms.\n",
        "  * Carbon atoms bond reasonably strongly with atoms of other elements.\n",
        "  * Carbon atoms are the building block of the vast majority of molecules for life!\n",
        "* In general, organic chemistry is dominated by the following elements:\n",
        "  * Carbon\n",
        "  * Nitrogen\n",
        "  * Oxygen\n",
        "  * Phosphorus\n",
        "  * Sulfur\n",
        "  * Hydrogen\n",
        "* Organic compounds are represented in 2D by the following diagrams. Since hydrogen and carbon are so ubiquitous, they are not listed in these diagrams.\n",
        "\n",
        "\\# Insert diagram of a few organic compounds\n"
      ],
      "metadata": {
        "id": "13Bsjm4PP4lB"
      }
    },
    {
      "cell_type": "markdown",
      "source": [
        "#### Inorganic small molecules\n",
        "\n",
        "#### Polymers"
      ],
      "metadata": {
        "id": "d4oIoSd-Qgbg"
      }
    },
    {
      "cell_type": "markdown",
      "source": [
        "## Types of molecular data"
      ],
      "metadata": {
        "id": "gxCUrKB3ThXj"
      }
    },
    {
      "cell_type": "markdown",
      "source": [
        "### 2-dimensional data\n",
        "\n",
        "Arguably, the most common molecular data type seen are 2-dimensional representations of atoms connected to one another with atomic bonds. There are advantages and disadvantages with this datatype though:\n",
        "\n",
        "\\# Add 2D-graph data here\n",
        "\n",
        "These 2D-graphs can be represented compactly using adjacency matrices and node lists:\n",
        "\n",
        "\\# add adjacency matrix\n",
        "\n",
        "**Advantages**\n",
        "\n",
        "* Simplicity and Clarity\n",
        "* Ease of Visualization\n",
        "* Compatibility with Databases\n",
        "* Integration with Analytical Data\n",
        "\n",
        "**Disadvantages**\n",
        "* Lack of Spatial Information\n",
        "* Stereochemistry\n",
        "* Conformational Flexibility\n",
        "* Computational Modeling Limitations\n",
        "\n",
        "These datatypes are typically incorporated into deep learning models using graph models such as GNNs and Graph Transformers.\n"
      ],
      "metadata": {
        "id": "pF0UK9pWU9z7"
      }
    },
    {
      "cell_type": "code",
      "source": [
        "from rdkit import Chem\n",
        "import networkx as nx\n",
        "\n",
        "smiles = 'CC(C)(C)c1ccc2occ(CC(=O)Nc3ccccc3F)c2c1'\n",
        "mol = Chem.MolFromSmiles(smiles)\n",
        "\n",
        "# Get adjacency matrix\n",
        "adjacency_matrix = Chem.GetAdjacencyMatrix(mol, useBO = True)\n",
        "\n",
        "# Convert adjacency matrix to NetworkX graph\n",
        "G = nx.from_numpy_array(adjacency_matrix)"
      ],
      "metadata": {
        "id": "UQt3zeyT4Tlp"
      },
      "execution_count": null,
      "outputs": []
    },
    {
      "cell_type": "markdown",
      "source": [
        "### 3-dimensional data\n",
        "\n",
        "3D chemical data offers numerous advantages over 2D data, especially in contexts where spatial information is critical.\n",
        "\n",
        "\\# add image of 3D chemical data\n",
        "\n",
        "**Advantages**\n",
        "\n",
        "* Accurate Representation of Molecular Geometry:\n",
        "* Stereochemistry\n",
        "* Conformational Analysis\n",
        "* Visualization\n",
        "\n",
        "**Disadvantages**\n",
        "\n",
        "* Computational Resource Requirements\n",
        "* Data Accuracy and Quality\n",
        "* Limited Availability\n",
        "* Overemphasis on static structures\n",
        "\n",
        "Common models used to incorporate these 3D structures are GNNs and 3D convolutional networks.\n"
      ],
      "metadata": {
        "id": "vpTdA1YBYzLh"
      }
    },
    {
      "cell_type": "markdown",
      "source": [
        "## Sequential data types\n",
        "\n",
        "In addition to 2-D and 3-D data types, molecules can also be represented as text! Since molecules have no obvious grammar to their structures, chemical languages have been developed with their own rules to account for different chemical information such as atom types, bonds, rings, and charges.\n",
        "\n",
        "## Simplified molecular-input line-entry system (SMILES)\n",
        "\n",
        "SMILES (Simplified molecular-input line-entry system) is a line notation method to represent molecules as well as reactions. It is one of the most common method to represent molecules because of its simplicity and readability to the human eye.\n",
        "\n",
        "Examples:\n",
        "\n",
        "Propane: CCC\n",
        "\n",
        "Butane:  CCCC\n",
        "\n",
        "Ethene:  C=C"
      ],
      "metadata": {
        "id": "sZPCI17Mle_p"
      }
    },
    {
      "cell_type": "markdown",
      "source": [
        "### Atoms\n",
        "\n",
        "All non-Hydrogen atoms are represented by their atomic symbols. Any unfulfilled valency of an atom is assumed to be Hydrogen. For example, writing a simple C means that it’s actually a CH4 (Methane) and not an elemental Carbon. Similarly, N is NH3 (Ammonia) and O is H2O (Water).\n",
        "\n",
        "To represent elemental atoms, a [ ] (Square bracket) notation is used. For example, [S] is elemental Sulfur. In case you want to explicitly add the Hydrogens to a SMILES string, the square bracket can be used here as well. For example, Methane and Ethane can be written as [CH4] and [CH3][CH3] respectively.\n",
        "\n",
        "### Bonds\n",
        "\n",
        "Single, double, and triple bonds are represented by the symbols -, =, and #, respectively. Same as Hydrogens, single bonds are often omitted for simplicity. Adjacent atoms are assumed to be connected by a single or aromatic bond.\n",
        "\n",
        "There can be multiple ways to represent a molecule in the SMILES string. For example, all the following notations are correct for Ethane: CC, C-C, [CH3]-[CH3], [CH3]-C\n",
        "\n",
        "### Charged molecules\n",
        "\n",
        "In case of charged atoms or molecules, the square bracket notation is the way to go again. The positive charge is represented by a + sign and a negative charge by - sign.\n",
        "\n",
        "### Branched molecules\n",
        "\n",
        "Parentheses are used to create a branch in the SMILES string.\n",
        "\n",
        "### Cyclic (ring) structures\n",
        "\n",
        "Ring structures are written by breaking each ring at an arbitrary point to make an acyclic structure and adding numerical ring closure labels to show connectivity between non-adjacent atoms.\n",
        "\n",
        "If there are two rings: we break one bond each from both the rings and assign separate numbers to each involved atom.\n",
        "\n",
        "### Aromatic structures\n",
        "\n",
        "A preferred way to represent them: aromatic atoms are represented by lowercase letters. For example, aromatic Carbon by c, Nitrogen by n, Boron by b, and so on.\n",
        "\n",
        "Example: benzene\n",
        "\n",
        "Benzene can be written as c1ccccc1. Here, adjacent atoms are not assumed to be connected by a single bond but rather the lowercase letters tells us that this is a aromatic ring signifying alternate single and double bonds.\n",
        "\n",
        "### Disconnected structures\n",
        "\n",
        "Ions in the ionic molecules are not connected by a covalent bond with each other. Disconnected compounds are written as individual structures separated by a . (period). For example, Sodium Hydroxide in its ionized form will be written as [Na+].[OH-]."
      ],
      "metadata": {
        "id": "_Cvehf4UmuSO"
      }
    },
    {
      "cell_type": "code",
      "source": [
        "import pubchempy as pcp\n",
        "results = pcp.get_compounds('Glucose', 'name')\n",
        "for compound in results:\n",
        "  print compound.isomeric_smiles"
      ],
      "metadata": {
        "id": "jXC58At84W28"
      },
      "execution_count": null,
      "outputs": []
    },
    {
      "cell_type": "markdown",
      "source": [
        "## SELFIES\n",
        "A limitation of SMILES strings is that they have a very complex grammar. When used in machine learning models, many of the results can be invalid.\n",
        "\n",
        "An alternative system used is the Self-referencing embedded strings (SELFIES) which is claimed to be 100% robust. Even entirely random SELFIES strings represent correct molecular graphs; this makes this language ideal for a generative machine learning model. The SELFIES grammar can be thought of as a elementary computer program that is transformed into a molecular graph with a simple compiler.\n",
        "\n",
        "SELFIES are designed with two general ideas:\n",
        "\n",
        "First, the non-local features in SMILES (rings and branches) are localized. SELFIES represents rings and branches by their length. After a ring and branch symbol, the subsequent symbol is interpreted as a number that stands for a length. This circumvents many syntactical issues with non-local features.\n",
        "\n",
        "Second, physical constraints are encoded by different states of the formal grammar. For example,a molecule of the form C=C=C is possible (three carbons connected via double bonds). However, F=O=F is not possible, because fluorine can only form one bond (not two) and oxygen can only form two bonds (not four as in this example). In SELFIES, after compiling a symbol into a part of the graph, the derivation state changes. This can be considered as a minimal memory that ensures the fulfilment of physical constraints.\n",
        "\n",
        "\\# Put picture of SELFIES here."
      ],
      "metadata": {
        "id": "z67GA_tFt72e"
      }
    },
    {
      "cell_type": "code",
      "source": [
        "! pip install selfies"
      ],
      "metadata": {
        "id": "9TsMEhrzOVUe"
      },
      "execution_count": null,
      "outputs": []
    },
    {
      "cell_type": "code",
      "source": [
        "import selfies as sf\n",
        "\n",
        "benzene = \"c1ccccc1\"\n",
        "\n",
        "# SMILES -> SELFIES -> SMILES translation\n",
        "try:\n",
        "    benzene_sf = sf.encoder(benzene)  # [C][=C][C][=C][C][=C][Ring1][=Branch1]\n",
        "    benzene_smi = sf.decoder(benzene_sf)  # C1=CC=CC=C1\n",
        "except sf.EncoderError:\n",
        "    pass  # sf.encoder error!\n",
        "except sf.DecoderError:\n",
        "    pass  # sf.decoder error!\n",
        "\n",
        "len_benzene = sf.len_selfies(benzene_sf)  # 8\n",
        "\n",
        "symbols_benzene = list(sf.split_selfies(benzene_sf))\n",
        "# ['[C]', '[=C]', '[C]', '[=C]', '[C]', '[=C]', '[Ring1]', '[=Branch1]']"
      ],
      "metadata": {
        "id": "OP3zZtfO47Yn"
      },
      "execution_count": null,
      "outputs": []
    }
  ]
}